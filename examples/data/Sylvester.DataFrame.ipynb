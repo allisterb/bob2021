{
 "cells": [
  {
   "cell_type": "code",
   "execution_count": 50,
   "id": "surprising-psychiatry",
   "metadata": {},
   "outputs": [],
   "source": [
    "#load \"../include/Data.fsx\""
   ]
  },
  {
   "cell_type": "code",
   "execution_count": 51,
   "id": "bronze-multimedia",
   "metadata": {},
   "outputs": [
    {
     "data": {
      "text/plain": [
       "seq [\"Date:DateTime\"; \"Open:Double\"; \"High:Double\"; \"Low:Double\"; ...]"
      ]
     },
     "execution_count": 51,
     "metadata": {},
     "output_type": "execute_result"
    }
   ],
   "source": [
    "open System\n",
    "open System.Collections.Generic\n",
    "open System.Linq;\n",
    "\n",
    "open FSharp.Interop.Dynamic\n",
    "\n",
    "open Sylvester.Data\n",
    "\n",
    "//Download a schema from a CSV file \n",
    "let msft = new CsvFile(\"https://raw.githubusercontent.com/matplotlib/sample_data/master/msft.csv\")\n",
    "\n",
    "// Set the first CSV field to a DateTime\n",
    "msft.[0].Type <- typeof<DateTime>\n",
    "\n",
    "// Set the remaining fields to floating point\n",
    "for j in 1..msft.Fields.Count - 1 do msft.[j].Type <- typeof<float> \n",
    "\n",
    "// Show all the field labels in the schema\n",
    "msft.Select(fun f -> f.Label + \":\" + f.Type.Name)"
   ]
  },
  {
   "cell_type": "code",
   "execution_count": 52,
   "id": "downtown-administration",
   "metadata": {},
   "outputs": [
    {
     "data": {
      "text/plain": [
       "seq\n",
       "  [seq [92433800.0; 29.79]; seq [67268096.0; 29.34]; seq [47221600.0; 28.34];\n",
       "   seq [52060600.0; 28.74]; ...]"
      ]
     },
     "execution_count": 52,
     "metadata": {},
     "output_type": "execute_result"
    }
   ],
   "source": [
    "//Now create a frame from the fields defined\n",
    "let df = new Frame(msft)\n",
    "df"
   ]
  },
  {
   "cell_type": "code",
   "execution_count": 53,
   "id": "exempt-prayer",
   "metadata": {},
   "outputs": [
    {
     "data": {
      "text/plain": [
       "seq\n",
       "  [09/19/2003 00:00:00; 09/18/2003 00:00:00; 09/17/2003 00:00:00;\n",
       "   09/16/2003 00:00:00; ...]"
      ]
     },
     "execution_count": 53,
     "metadata": {},
     "output_type": "execute_result"
    }
   ],
   "source": [
    "// The Date property is a dynamic member of df with a static series type\n",
    "let date:Cd = df?Date\n",
    "date"
   ]
  },
  {
   "cell_type": "markdown",
   "id": "integrated-island",
   "metadata": {},
   "source": [
    "The High property is a series of floating-point data."
   ]
  },
  {
   "cell_type": "code",
   "execution_count": 54,
   "id": "considered-forty",
   "metadata": {},
   "outputs": [
    {
     "data": {
      "text/plain": [
       "29.97 29.51 28.95 28.95 28.61 28.40 28.11 28.18 28.71 28.92 28.75 28.47 28.40 27.30 26.55 26.58 26.58 26.67 26.54 26.95 26.73 26.53 26.65 25.83 25.66 25.71 25.89 25.77 25.99 25.98 25.81 26.19 26.54 26.41 26.51 26.99 26.57 26.90 27.00 26.95 26.92 26.65 26.56 26.91 27.23 27.27 27.62 27.53 27.81 27.45 27.42 27.70 27.80 27.55 26.95 26.93 26.20 26.12 26.34 26.51 25.99 26.04 26.24 26.38 26.39 "
      ]
     },
     "metadata": {},
     "output_type": "display_data"
    }
   ],
   "source": [
    "for i in df?High do printf \"%.2f \" i"
   ]
  },
  {
   "cell_type": "code",
   "execution_count": 55,
   "id": "interested-animation",
   "metadata": {},
   "outputs": [
    {
     "data": {
      "text/plain": [
       "seq\n",
       "  [09/03/2003 00:00:00; 07/02/2003 00:00:00; 09/19/2003 00:00:00;\n",
       "   07/07/2003 00:00:00; ...]"
      ]
     },
     "execution_count": 55,
     "metadata": {},
     "output_type": "execute_result"
    }
   ],
   "source": [
    "query {\n",
    "    for r in df do\n",
    "    sortByDescending r?Volume\n",
    "    select r.[\"Date\"]\n",
    "}"
   ]
  },
  {
   "cell_type": "code",
   "execution_count": 56,
   "id": "hungry-wales",
   "metadata": {},
   "outputs": [
    {
     "data": {
      "text/html": [
       "<table><thead><tr><th>Date</th><th>High</th></tr></thead><tbody><tr><td>08/15/2003 00:00:00</td><td>25.66</td></tr><tr><td>08/14/2003 00:00:00</td><td>25.71</td></tr><tr><td>08/12/2003 00:00:00</td><td>25.77</td></tr><tr><td>08/07/2003 00:00:00</td><td>25.81</td></tr><tr><td>08/18/2003 00:00:00</td><td>25.83</td></tr><tr><td>08/13/2003 00:00:00</td><td>25.89</td></tr><tr><td>08/08/2003 00:00:00</td><td>25.98</td></tr><tr><td>08/11/2003 00:00:00</td><td>25.99</td></tr><tr><td>06/25/2003 00:00:00</td><td>25.99</td></tr><tr><td>06/24/2003 00:00:00</td><td>26.04</td></tr><tbody></tbody></table>"
      ],
      "text/plain": [
       "{ Columns = [|\"Date\"; \"High\"|]\n",
       "  Rows =\n",
       "        [|[|\"08/15/2003 00:00:00\"; \"25.66\"|]; [|\"08/14/2003 00:00:00\"; \"25.71\"|];\n",
       "          [|\"08/12/2003 00:00:00\"; \"25.77\"|]; [|\"08/07/2003 00:00:00\"; \"25.81\"|];\n",
       "          [|\"08/18/2003 00:00:00\"; \"25.83\"|]; [|\"08/13/2003 00:00:00\"; \"25.89\"|];\n",
       "          [|\"08/08/2003 00:00:00\"; \"25.98\"|]; [|\"08/11/2003 00:00:00\"; \"25.99\"|];\n",
       "          [|\"06/25/2003 00:00:00\"; \"25.99\"|]; [|\"06/24/2003 00:00:00\"; \"26.04\"|]|] }"
      ]
     },
     "execution_count": 56,
     "metadata": {},
     "output_type": "execute_result"
    }
   ],
   "source": [
    "// Select a tuple of 2 fields from the frame\n",
    "query {\n",
    "    for r in df do \n",
    "    sortBy r?High \n",
    "    take 10\n",
    "    select {|Date=r?Date; High=r?High|}\n",
    "} |> Util.Table"
   ]
  },
  {
   "cell_type": "code",
   "execution_count": 57,
   "id": "revised-stanford",
   "metadata": {},
   "outputs": [
    {
     "data": {
      "text/plain": [
       "7"
      ]
     },
     "execution_count": 57,
     "metadata": {},
     "output_type": "execute_result"
    }
   ],
   "source": [
    "// The original MSFT dataset has 7 series\n",
    "df.Columns.Count"
   ]
  },
  {
   "cell_type": "code",
   "execution_count": 58,
   "id": "embedded-block",
   "metadata": {},
   "outputs": [
    {
     "data": {
      "text/plain": [
       "seq\n",
       "  [09/19/2003 00:00:00; 09/18/2003 00:00:00; 09/17/2003 00:00:00;\n",
       "   09/16/2003 00:00:00; ...]"
      ]
     },
     "execution_count": 58,
     "metadata": {},
     "output_type": "execute_result"
    }
   ],
   "source": [
    "query {for r in df do select (r.[\"Date\"])}"
   ]
  },
  {
   "cell_type": "markdown",
   "id": "floating-lodge",
   "metadata": {},
   "source": [
    "Rows in data frames forward data access calls to their parent frame. No additional storage for querying by row or column is allocated."
   ]
  },
  {
   "cell_type": "code",
   "execution_count": 59,
   "id": "reflected-wayne",
   "metadata": {},
   "outputs": [
    {
     "data": {
      "text/plain": [
       "26.5800\r\n"
      ]
     },
     "metadata": {},
     "output_type": "display_data"
    }
   ],
   "source": [
    "printfn \"%.4f\" df.[16]?High"
   ]
  },
  {
   "cell_type": "markdown",
   "id": "upset-union",
   "metadata": {},
   "source": [
    "### Examples"
   ]
  },
  {
   "cell_type": "markdown",
   "id": "transparent-parking",
   "metadata": {},
   "source": [
    "Sylvester can make exploratory data analysis with F# easier and faster than existing .NET libraries. Using LINQ can make queries less verbose and easier to understand than other .NET data frame libraries like [Deedle](https://bluemountaincapital.github.io/Deedle/)."
   ]
  },
  {
   "cell_type": "code",
   "execution_count": 63,
   "id": "technical-feature",
   "metadata": {},
   "outputs": [
    {
     "data": {
      "text/html": [
       "<table><thead><tr><th>Class</th><th>Died</th><th>Survived</th></tr></thead><tbody><tr><td>1</td><td>37</td><td>63</td></tr><tr><td>2</td><td>53</td><td>47</td></tr><tr><td>3</td><td>76</td><td>24</td></tr><tbody></tbody></table>"
      ],
      "text/plain": [
       "{ Columns = [|\"Class\"; \"Died\"; \"Survived\"|]\n",
       "  Rows = [|[|\"1\"; \"37\"; \"63\"|]; [|\"2\"; \"53\"; \"47\"|]; [|\"3\"; \"76\"; \"24\"|]|] }"
      ]
     },
     "execution_count": 63,
     "metadata": {},
     "output_type": "execute_result"
    }
   ],
   "source": [
    "let titanic = new CsvFile(\"https://raw.githubusercontent.com/datasciencedojo/datasets/master/titanic.csv\")\n",
    "titanic.[\"Pclass\"].Type <- typeof<int>\n",
    "let dt = new Frame(titanic)\n",
    "\n",
    "query {\n",
    "    for r in dt do\n",
    "    groupBy r?Pclass into g\n",
    "    sortBy g.Key\n",
    "    select (\n",
    "        let survived = (g.Where(fun p -> p?Survived = \"1\").Count()) |> float\n",
    "        let died = (g.Where(fun p -> p?Survived = \"0\").Count()) |> float\n",
    "        let ctotal = survived + died\n",
    "        let psurvived = round(100.0 * survived / ctotal)\n",
    "        let pdied = round(100.0 * died / ctotal) \n",
    "        {|Class=g.Key; Died=pdied; Survived=psurvived|}\n",
    ")} |> Util.Table"
   ]
  }
 ],
 "metadata": {
  "kernelspec": {
   "display_name": "F#",
   "language": "fsharp",
   "name": "ifsharp"
  },
  "language": "fsharp",
  "language_info": {
   "codemirror_mode": "",
   "file_extension": ".fs",
   "mimetype": "text/x-fsharp",
   "name": "fsharp",
   "nbconvert_exporter": "",
   "pygments_lexer": "",
   "version": "4.3.1.0"
  }
 },
 "nbformat": 4,
 "nbformat_minor": 5
}
