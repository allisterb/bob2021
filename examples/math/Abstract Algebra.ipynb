{
  "cells": [
    {
      "cell_type": "code",
      "execution_count": 1,
      "metadata": {
        "dotnet_interactive": {
          "language": "csharp"
        }
      },
      "source": [
        "// Use the Sylvester abstract algebra package\n",
        "//#load \"Paket.fsx\"\n",
        "//Paket.Package[\"Sylvester.AbstractAlgebra\"] \n",
        "//#load \"Paket.Generated.Refs.fsx\"\n",
        "#load \"C:\\\\Projects\\\\Sylvester.git\\\\notebooks\\\\MathInclude.fsx\""
      ],
      "outputs": [
        {
          "output_type": "stream",
          "name": "stdout",
          "text": "=============== S T A R T ==========================================\n>>>> C:\\Projects\\Sylvester.git\\src\\Providers\\Sylvester.Provider.Arithmetic\\src\\Sylvester.Provider.Arithmetic.Runtime\\bin\\Release\\typeproviders\\fsharp41\\netstandard2.0\\Sylvester.Provider.Arithmetic.DesignTime.dll\nUsing: C:\\Projects\\Sylvester.git\\src\\Providers\\Sylvester.Provider.Arithmetic\\src\\Sylvester.Provider.Arithmetic.Runtime\\bin\\Release\\typeproviders\\fsharp41\\netstandard2.0\\Sylvester.Provider.Arithmetic.DesignTime.dll"
        }
      ]
    },
    {
      "cell_type": "markdown",
      "metadata": {},
      "source": [
        "# Sylvester.AbstractAlgebra\n",
        "The Sylvester abstract algebra library contains types and operations for rigorously defining abstract algebra structures and concepts. The F# language is both functional and object-oriented with infinite sequences as first-class objects, which make it really great at representing mathematical structures like groups which have natural inheritance relations, as well as infinite sequences of objects like the natural numbers and other enumerable sets. The language features of F# together with Sylvester types allow the user to write mathematical expressions that are very close to what you will find in print."
      ]
    },
    {
      "cell_type": "markdown",
      "metadata": {},
      "source": [
        "## Morphisms"
      ]
    },
    {
      "cell_type": "code",
      "execution_count": 1,
      "metadata": {
        "dotnet_interactive": {
          "language": "fsharp"
        }
      },
      "source": [
        "open System \n",
        "open System.Linq\n",
        "open Sylvester\n",
        "open Sylvester.Arithmetic"
      ],
      "outputs": []
    },
    {
      "cell_type": "code",
      "execution_count": 1,
      "metadata": {
        "dotnet_interactive": {
          "language": "fsharp"
        }
      },
      "source": [
        "// Define a custom symbol type S with a (+) operator and zero\n",
        "// We could just also use plain strings\n",
        "type S = S of string with\n",
        "    static member (+) (S l, S r) = S (l + r)\n",
        "    static member Zero = S \"\"\n",
        "\n",
        "// Define an infinite sequence of S strings\n",
        "let Sym = infiniteSeq ofType<S> ((+) 65 >> Char.ConvertFromUtf32 >> S)\n",
        "Sym"
      ],
      "outputs": [
        {
          "output_type": "error",
          "ename": "Unhandled Exception",
          "evalue": "input.fsx (8,11)-(8,22) typecheck error The value or constructor 'infiniteSeq' is not defined. Maybe you want one of the following:\r\n   infinite_seq\r\n   infinite_seq2\r\n   infinite_seq3\r\n   infinite_seq4\r\n   infinite_seq5",
          "traceback": [
            "input.fsx (8,11)-(8,22) typecheck error The value or constructor 'infiniteSeq' is not defined. Maybe you want one of the following:\r\n   infinite_seq\r\n   infinite_seq2\r\n   infinite_seq3\r\n   infinite_seq4\r\n   infinite_seq5"
          ]
        }
      ]
    },
    {
      "cell_type": "code",
      "execution_count": 1,
      "metadata": {
        "dotnet_interactive": {
          "language": "fsharp"
        }
      },
      "source": [
        "// Define a monoid using our set and + operator and zero element\n",
        "let L = Monoid(Sym, (+), S.Zero)\n",
        "L"
      ],
      "outputs": []
    },
    {
      "cell_type": "code",
      "execution_count": 1,
      "metadata": {
        "dotnet_interactive": {
          "language": "csharp"
        }
      },
      "source": [
        "// Create 2 S values\n",
        "let a, b = S \"Nancy\", S \"Drew\"\n",
        "a + b"
      ],
      "outputs": []
    },
    {
      "cell_type": "code",
      "execution_count": 1,
      "metadata": {
        "dotnet_interactive": {
          "language": "csharp"
        }
      },
      "source": [
        "// Create an L morphism using the PadLeft string function\n",
        "let Pad = Morph(L, fun l -> let (S s) = l in S(s.PadLeft 20))\n",
        "let pad = Pad.Map\n",
        "pad a"
      ],
      "outputs": []
    },
    {
      "cell_type": "code",
      "execution_count": 1,
      "metadata": {
        "dotnet_interactive": {
          "language": "csharp"
        }
      },
      "source": [
        "// Is pad a homomorphism?\n",
        "pad a + pad b"
      ],
      "outputs": []
    },
    {
      "cell_type": "code",
      "execution_count": 1,
      "metadata": {
        "dotnet_interactive": {
          "language": "csharp"
        }
      },
      "source": [
        "pad (a + b)"
      ],
      "outputs": []
    },
    {
      "cell_type": "code",
      "execution_count": 1,
      "metadata": {
        "dotnet_interactive": {
          "language": "csharp"
        }
      },
      "source": [
        "pad a + pad b = pad (a + b)"
      ],
      "outputs": []
    },
    {
      "cell_type": "code",
      "execution_count": 1,
      "metadata": {
        "dotnet_interactive": {
          "language": "csharp"
        }
      },
      "source": [
        "let s1 = seq{1..6} |> Seq\n",
        "let s2 = Seq [5] \n",
        "let c = s1 |-| s2\n",
        "\n",
        "c.Powerset.Length"
      ],
      "outputs": []
    },
    {
      "cell_type": "code",
      "execution_count": 1,
      "metadata": {
        "dotnet_interactive": {
          "language": "csharp"
        }
      },
      "source": [
        "Nz"
      ],
      "outputs": []
    },
    {
      "cell_type": "markdown",
      "metadata": {},
      "source": [
        "## Lattices"
      ]
    },
    {
      "cell_type": "code",
      "execution_count": 1,
      "metadata": {
        "dotnet_interactive": {
          "language": "csharp"
        }
      },
      "source": [
        "let c1 = infiniteSeq (fun x -> x % 2 = 0) (fun n -> n * 2)\n",
        "c1"
      ],
      "outputs": []
    },
    {
      "cell_type": "code",
      "execution_count": 1,
      "metadata": {
        "dotnet_interactive": {
          "language": "csharp"
        }
      },
      "source": [
        "let dice = seq {1..6} |> Seq\n",
        "let outcomes = dice * dice\n",
        "outcomes"
      ],
      "outputs": []
    },
    {
      "cell_type": "code",
      "execution_count": 1,
      "metadata": {
        "dotnet_interactive": {
          "language": "csharp"
        }
      },
      "source": [
        "dice.Powerset"
      ],
      "outputs": []
    },
    {
      "cell_type": "code",
      "execution_count": 1,
      "metadata": {
        "dotnet_interactive": {
          "language": "csharp"
        }
      },
      "source": [
        "let setal = SetAlgebra(dice)\n",
        "setal.Set.Length"
      ],
      "outputs": []
    },
    {
      "cell_type": "code",
      "execution_count": 1,
      "metadata": {
        "dotnet_interactive": {
          "language": "csharp"
        }
      },
      "source": [
        "Z.Set.Prod"
      ],
      "outputs": []
    },
    {
      "cell_type": "code",
      "execution_count": 1,
      "metadata": {
        "dotnet_interactive": {
          "language": "csharp"
        }
      },
      "source": [
        "Z.Set.Prod |>| fun (x,y) -> x > 16 && x % 2 = 0 && y % 3 = 0"
      ],
      "outputs": []
    },
    {
      "cell_type": "code",
      "execution_count": 1,
      "metadata": {
        "dotnet_interactive": {
          "language": "csharp"
        }
      },
      "source": [
        ""
      ],
      "outputs": []
    }
  ],
  "metadata": {
    "kernelspec": {
      "display_name": ".NET (C#)",
      "language": "C#",
      "name": ".net-csharp"
    },
    "language_info": {
      "file_extension": ".cs",
      "mimetype": "text/x-csharp",
      "name": "C#",
      "pygments_lexer": "csharp",
      "version": "8.0"
    }
  },
  "nbformat": 4,
  "nbformat_minor": 4
}