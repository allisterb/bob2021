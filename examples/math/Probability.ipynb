{
  "cells": [
    {
      "cell_type": "code",
      "execution_count": 1,
      "metadata": {
        "dotnet_interactive": {
          "language": "fsharp"
        }
      },
      "source": [
        "#load \"../include/MathDev.fsx\"\n",
        "open System\n",
        "open System.Linq\n",
        "open Sylvester"
      ],
      "outputs": []
    },
    {
      "cell_type": "code",
      "execution_count": 1,
      "metadata": {
        "dotnet_interactive": {
          "language": "fsharp"
        }
      },
      "source": [
        "let dice = seq {1..6} |> Seq\n",
        "dice"
      ],
      "outputs": [
        {
          "output_type": "execute_result",
          "data": {
            "text/plain": "input.fsx (1,26)-(1,29) typecheck error Type mismatch. Expecting a\n    'Set<int> -> obj'    \nbut given a\n    'seq<'a> -> Set<'a>'    \nThe type 'Set<int>' does not match the type 'seq<'a>'"
          },
          "execution_count": 1,
          "metadata": {}
        }
      ]
    },
    {
      "cell_type": "code",
      "execution_count": 1,
      "metadata": {
        "dotnet_interactive": {
          "language": "csharp"
        }
      },
      "source": [
        "let outcomes = (dice * dice) \n",
        "outcomes."
      ],
      "outputs": [
        {
          "output_type": "execute_result",
          "data": {
            "text/plain": [
              "Seq (seq [(1, 1); (1, 1); (2, 1); (2, 2); ...])"
            ]
          },
          "execution_count": 1,
          "metadata": {}
        }
      ]
    },
    {
      "cell_type": "code",
      "execution_count": 1,
      "metadata": {
        "dotnet_interactive": {
          "language": "csharp"
        }
      },
      "source": [
        "let s = dice.Prod\n",
        "s |> Util.Table "
      ],
      "outputs": [
        {
          "output_type": "execute_result",
          "data": {
            "text/html": [
              "<table><thead><tr><th>Item1</th><th>Item2</th></tr></thead><tbody><tr><td>1</td><td>1</td></tr><tr><td>2</td><td>1</td></tr><tr><td>2</td><td>2</td></tr><tr><td>1</td><td>2</td></tr><tr><td>3</td><td>1</td></tr><tr><td>3</td><td>2</td></tr><tr><td>3</td><td>3</td></tr><tr><td>1</td><td>3</td></tr><tr><td>2</td><td>3</td></tr><tr><td>4</td><td>1</td></tr><tr><td>4</td><td>2</td></tr><tr><td>4</td><td>3</td></tr><tr><td>4</td><td>4</td></tr><tr><td>1</td><td>4</td></tr><tr><td>2</td><td>4</td></tr><tr><td>3</td><td>4</td></tr><tr><td>5</td><td>1</td></tr><tr><td>5</td><td>2</td></tr><tr><td>5</td><td>3</td></tr><tr><td>5</td><td>4</td></tr><tr><td>5</td><td>5</td></tr><tr><td>1</td><td>5</td></tr><tr><td>2</td><td>5</td></tr><tr><td>3</td><td>5</td></tr><tr><td>4</td><td>5</td></tr><tr><td>6</td><td>1</td></tr><tr><td>6</td><td>2</td></tr><tr><td>6</td><td>3</td></tr><tr><td>6</td><td>4</td></tr><tr><td>6</td><td>5</td></tr><tr><td>6</td><td>6</td></tr><tr><td>1</td><td>6</td></tr><tr><td>2</td><td>6</td></tr><tr><td>3</td><td>6</td></tr><tr><td>4</td><td>6</td></tr><tr><td>5</td><td>6</td></tr><tbody></tbody></table>"
            ],
            "text/plain": [
              "{Columns = [|\"Item1\"; \"Item2\"|];\n",
              " Rows =\n",
              "  [|[|\"1\"; \"1\"|]; [|\"2\"; \"1\"|]; [|\"2\"; \"2\"|]; [|\"1\"; \"2\"|]; [|\"3\"; \"1\"|];\n",
              "    [|\"3\"; \"2\"|]; [|\"3\"; \"3\"|]; [|\"1\"; \"3\"|]; [|\"2\"; \"3\"|]; [|\"4\"; \"1\"|];\n",
              "    [|\"4\"; \"2\"|]; [|\"4\"; \"3\"|]; [|\"4\"; \"4\"|]; [|\"1\"; \"4\"|]; [|\"2\"; \"4\"|];\n",
              "    [|\"3\"; \"4\"|]; [|\"5\"; \"1\"|]; [|\"5\"; \"2\"|]; [|\"5\"; \"3\"|]; [|\"5\"; \"4\"|];\n",
              "    [|\"5\"; \"5\"|]; [|\"1\"; \"5\"|]; [|\"2\"; \"5\"|]; [|\"3\"; \"5\"|]; [|\"4\"; \"5\"|];\n",
              "    [|\"6\"; \"1\"|]; [|\"6\"; \"2\"|]; [|\"6\"; \"3\"|]; [|\"6\"; \"4\"|]; [|\"6\"; \"5\"|];\n",
              "    [|\"6\"; \"6\"|]; [|\"1\"; \"6\"|]; [|\"2\"; \"6\"|]; [|\"3\"; \"6\"|]; [|\"4\"; \"6\"|];\n",
              "    [|\"5\"; \"6\"|]|];}"
            ]
          },
          "execution_count": 1,
          "metadata": {}
        }
      ]
    },
    {
      "cell_type": "code",
      "execution_count": 1,
      "metadata": {
        "dotnet_interactive": {
          "language": "csharp"
        }
      },
      "source": [
        "dice.AsSigmaAlgebra"
      ],
      "outputs": [
        {
          "output_type": "execute_result",
          "data": {
            "text/plain": [
              "seq [Empty; Seq [|4|]; Seq [|3|]; Seq [|3; 4|]; ...]"
            ]
          },
          "execution_count": 1,
          "metadata": {}
        }
      ]
    },
    {
      "cell_type": "code",
      "execution_count": 1,
      "metadata": {
        "dotnet_interactive": {
          "language": "csharp"
        }
      },
      "source": [
        "dice.AsSigmaAlgebra.Count()"
      ],
      "outputs": [
        {
          "output_type": "execute_result",
          "data": {
            "text/plain": [
              "64"
            ]
          },
          "execution_count": 1,
          "metadata": {}
        }
      ]
    },
    {
      "cell_type": "code",
      "execution_count": 1,
      "metadata": {
        "dotnet_interactive": {
          "language": "csharp"
        }
      },
      "source": [
        ""
      ],
      "outputs": []
    }
  ],
  "metadata": {
    "kernelspec": {
      "display_name": ".NET (C#)",
      "language": "C#",
      "name": ".net-csharp"
    },
    "language_info": {
      "file_extension": ".cs",
      "mimetype": "text/x-csharp",
      "name": "C#",
      "pygments_lexer": "csharp",
      "version": "8.0"
    }
  },
  "nbformat": 4,
  "nbformat_minor": 4
}