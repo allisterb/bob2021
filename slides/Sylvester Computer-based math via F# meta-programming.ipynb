{
 "cells": [
  {
   "cell_type": "code",
   "execution_count": 2,
   "id": "younger-jones",
   "metadata": {
    "hide_input": true,
    "slideshow": {
     "slide_type": "skip"
    }
   },
   "outputs": [
    {
     "data": {
      "text/html": [
       "<script src=\"https://raw.githubusercontent.com/mathjax/MathJax/master/latest.js?config=TeX-AMS-MML_CHTM\"></script>"
      ]
     },
     "metadata": {},
     "output_type": "display_data"
    }
   ],
   "source": [
    "// Setup MathJax and HTML helpers\n",
    "@\"<script src=\"\"https://raw.githubusercontent.com/mathjax/MathJax/master/latest.js?config=TeX-AMS-MML_CHTM\"\"></script>\" |> Util.Html |> Display\n",
    "\n",
    "let html x = { Html = x }\n",
    "\n",
    "let h1 text = { Html = \"<h1>\" + text + \"</h1>\" }\n",
    "\n",
    "let h2 text = { Html = \"<h2>\" + text + \"</h2>\" }\n",
    "\n",
    "let h3 text = { Html = \"<h3>\" + text + \"</h3>\" }\n",
    "\n",
    "let ul text = { Html = \"<ul><li>\" + text + \"</li></ul>\" }\n",
    "\n",
    "let ul3 text = { Html = \"<ul><li><h3>\" + text + \"</h3></li></ul>\" }\n",
    "\n",
    "let img url = { Html = \"<img src=\\\"\" + url + \"\\\"\" + \" style=\\\"align:center\\\" />\" }\n",
    "\n",
    "let uli text url = { Html = \"<ul><li>\" + text + \"<img src=\\\"\" + url + \"\\\"\" + \" style=\\\"align:center\\\" />\" + \"</li></ul>\" }\n",
    "\n",
    "let uli2 text url = { Html = \"<h2><ul><li>\" + text + \"<img src=\\\"\" + url + \"\\\"\" + \" style=\\\"align:center\\\" />\" + \"</li></ul></h2>\" }\n",
    "\n",
    "let uli3 text url = { Html = \"<h3><ul><li>\" + text + \"<img src=\\\"\" + url + \"\\\"\" + \" style=\\\"align:center\\\" />\" + \"</li></ul></h3>\" }\n",
    "\n",
    "let inline (^+^) (x:HtmlOutput) (y:HtmlOutput) = { Html = x.Html + y.Html }"
   ]
  },
  {
   "cell_type": "markdown",
   "id": "exotic-jacob",
   "metadata": {
    "hide_input": false,
    "slideshow": {
     "slide_type": "slide"
    }
   },
   "source": [
    "<img src=\"https://upload.wikimedia.org/wikipedia/commons/5/57/Fsharp_logo.png\" alt=\"Alt text that describes the graphic\" title=\"Title text\" />\n",
    "\n",
    "# Sylvester: Computer-based math via F# meta-programming"
   ]
  },
  {
   "cell_type": "markdown",
   "id": "fatty-revolution",
   "metadata": {
    "slideshow": {
     "slide_type": "slide"
    }
   },
   "source": [
    "# About me"
   ]
  },
  {
   "cell_type": "markdown",
   "id": "mobile-federal",
   "metadata": {
    "slideshow": {
     "slide_type": "subslide"
    }
   },
   "source": [
    "## Open-source developer\n",
    "* F#, C#, Python, some others\n",
    "* https://github.com/allisterb\n",
    "* @allisterbeharry on Twitter"
   ]
  },
  {
   "cell_type": "markdown",
   "id": "superb-departure",
   "metadata": {
    "slideshow": {
     "slide_type": "subslide"
    }
   },
   "source": [
    "## From Trinidad W.I.\n",
    "<img src=\"https://upload.wikimedia.org/wikipedia/commons/9/98/Caribbean_general_map.png\" />"
   ]
  },
  {
   "cell_type": "markdown",
   "id": "radio-requirement",
   "metadata": {
    "slideshow": {
     "slide_type": "subslide"
    }
   },
   "source": [
    "## Oh also..."
   ]
  },
  {
   "cell_type": "markdown",
   "id": "grateful-fence",
   "metadata": {
    "slideshow": {
     "slide_type": "fragment"
    }
   },
   "source": [
    "## WARNING! ANIMAL ZONE\n",
    "<img src=\"imgs/animals.jpg\"/>"
   ]
  },
  {
   "cell_type": "markdown",
   "id": "experienced-horizontal",
   "metadata": {
    "slideshow": {
     "slide_type": "fragment"
    }
   },
   "source": [
    "## We have lots of pets so if you hear loud animal noises don't be alarmed :)"
   ]
  },
  {
   "cell_type": "markdown",
   "id": "likely-bearing",
   "metadata": {
    "slideshow": {
     "slide_type": "slide"
    }
   },
   "source": [
    "# Requirements\n",
    "\n",
    "* Jupyter Notebooks\n",
    "* See https://github.com/allisterb/bob2021\n",
    "* Intro to F# e.g. `FSharp_Jupyter_Notebooks` in this repo or https://fsharp.org/learn/"
   ]
  },
  {
   "cell_type": "markdown",
   "id": "spectacular-wiring",
   "metadata": {
    "slideshow": {
     "slide_type": "slide"
    }
   },
   "source": [
    "# What will we cover?\n",
    "* About Sylvester project (or why yet another programming language)\n",
    "* F# meta-programming\n",
    "* Using an F# eDSL for mathematical computing\n",
    "* Using an F# eDSL for scientfic computing"
   ]
  },
  {
   "cell_type": "markdown",
   "id": "unauthorized-dinner",
   "metadata": {
    "slideshow": {
     "slide_type": "slide"
    }
   },
   "source": [
    "# Sylvester\n",
    "## https://github.com/allisterb/Sylvester\n",
    "* An F# DSL for mathematical and scientific computing\n",
    "* Take the best bits of typed functional programming and apply it to mathematical and scientific computing\n",
    "* Use F# features to create a more advanced type system for scientific computing\n",
    "* Use F# meta-programming to create a language for mathematical computing that unifies symbolic, logical, computational properties of mathematics"
   ]
  },
  {
   "cell_type": "markdown",
   "id": "fewer-fellow",
   "metadata": {
    "slideshow": {
     "slide_type": "subslide"
    }
   },
   "source": [
    "## Sylvester: Motivations"
   ]
  },
  {
   "cell_type": "markdown",
   "id": "invisible-target",
   "metadata": {
    "slideshow": {
     "slide_type": "fragment"
    }
   },
   "source": [
    "* Observations on mathematical language"
   ]
  },
  {
   "cell_type": "markdown",
   "id": "express-college",
   "metadata": {
    "slideshow": {
     "slide_type": "fragment"
    }
   },
   "source": [
    "* Philosophy interlude: meaning vs. syntactic manipulation"
   ]
  },
  {
   "cell_type": "markdown",
   "id": "surprising-bishop",
   "metadata": {
    "slideshow": {
     "slide_type": "fragment"
    }
   },
   "source": [
    " * Observations on anachronistic way math is taught today"
   ]
  },
  {
   "cell_type": "markdown",
   "id": "welcome-reasoning",
   "metadata": {
    "slideshow": {
     "slide_type": "fragment"
    }
   },
   "source": [
    " * Observations on research code: how can scientists write better code "
   ]
  },
  {
   "cell_type": "markdown",
   "id": "broad-hollywood",
   "metadata": {
    "slideshow": {
     "slide_type": "fragment"
    }
   },
   "source": [
    "* Functional languages in scientific and mathematical computing\n"
   ]
  },
  {
   "cell_type": "markdown",
   "id": "canadian-harris",
   "metadata": {
    "slideshow": {
     "slide_type": "slide"
    }
   },
   "source": [
    "# F# meta-programming"
   ]
  },
  {
   "cell_type": "markdown",
   "id": "dental-jungle",
   "metadata": {
    "slideshow": {
     "slide_type": "subslide"
    }
   },
   "source": [
    "## F# meta-programming: Code Quotations\n",
    "\n",
    "* https://docs.microsoft.com/en-us/dotnet/fsharp/language-reference/code-quotations\n",
    "* Primary vehicle for F# meta-programming\n",
    "* F# code delimited by '<@' '@>' is interpreted as a syntactic structure\n",
    "* Same compiler and IDE features available for writing ordinary F# source code"
   ]
  },
  {
   "cell_type": "code",
   "execution_count": 2,
   "id": "organizational-fisher",
   "metadata": {
    "slideshow": {
     "slide_type": "subslide"
    }
   },
   "outputs": [
    {
     "data": {
      "text/plain": [
       "9"
      ]
     },
     "execution_count": 2,
     "metadata": {},
     "output_type": "execute_result"
    }
   ],
   "source": [
    "// Ordinary F# code\n",
    "4 + 5"
   ]
  },
  {
   "cell_type": "code",
   "execution_count": 3,
   "id": "understood-choir",
   "metadata": {
    "slideshow": {
     "slide_type": "fragment"
    }
   },
   "outputs": [
    {
     "data": {
      "text/plain": [
       "Call (None, op_Addition, [Value (4), Value (5)])"
      ]
     },
     "execution_count": 3,
     "metadata": {},
     "output_type": "execute_result"
    }
   ],
   "source": [
    "// F# code quotation\n",
    "<@ 4 + 5 @>"
   ]
  },
  {
   "cell_type": "code",
   "execution_count": 29,
   "id": "monetary-inspiration",
   "metadata": {
    "slideshow": {
     "slide_type": "fragment"
    }
   },
   "outputs": [
    {
     "data": {
      "text/plain": [
       "System.Int32"
      ]
     },
     "execution_count": 29,
     "metadata": {},
     "output_type": "execute_result"
    }
   ],
   "source": [
    "(4 + 5).GetType()"
   ]
  },
  {
   "cell_type": "code",
   "execution_count": 28,
   "id": "animated-relation",
   "metadata": {
    "slideshow": {
     "slide_type": "fragment"
    }
   },
   "outputs": [
    {
     "data": {
      "text/plain": [
       "Microsoft.FSharp.Quotations.FSharpExpr`1[System.Int32]"
      ]
     },
     "execution_count": 28,
     "metadata": {},
     "output_type": "execute_result"
    }
   ],
   "source": [
    "(<@ 4 + 5 @>).GetType()"
   ]
  },
  {
   "cell_type": "markdown",
   "id": "deluxe-gentleman",
   "metadata": {
    "slideshow": {
     "slide_type": "subslide"
    }
   },
   "source": [
    "### F# Code Quotations\n",
    "* Have type `Expr<'a>` or `Expr`\n",
    "* Example above has type `Expr<int>`\n",
    "* Instances of `Expr<'a>` or `Expr` treat code as purely symbolic\n",
    "* F# code inside quotations can be manipulated and synthesized\n",
    "* Primary vehicle for deep embedding of DSLs in F#"
   ]
  }
 ],
 "metadata": {
  "celltoolbar": "Slideshow",
  "kernelspec": {
   "display_name": "F#",
   "language": "fsharp",
   "name": "ifsharp"
  },
  "language": "fsharp",
  "language_info": {
   "codemirror_mode": "",
   "file_extension": ".fs",
   "mimetype": "text/x-fsharp",
   "name": "fsharp",
   "nbconvert_exporter": "",
   "pygments_lexer": "",
   "version": "4.3.1.0"
  }
 },
 "nbformat": 4,
 "nbformat_minor": 5
}
